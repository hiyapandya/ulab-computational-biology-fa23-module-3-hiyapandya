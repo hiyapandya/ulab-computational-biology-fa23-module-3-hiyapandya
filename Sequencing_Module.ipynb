{
 "cells": [
  {
   "cell_type": "markdown",
   "metadata": {
    "id": "Tw0WH81zUHCD"
   },
   "source": [
    "## Introduction ##\n",
    "Welcome to the sequencing technologies module! In lecture this week, we talked about some of the most common sequencing methods (e.g. Sanger, Illumina) and the steps you may need to take to process or cleanup sequencing data. \n",
    "\n",
    "In this module, we'll be exploring a sample FASTQ file and conducting some basic analyses. Our goal is to get the gene count from a file containing sequencing data. Make sure to run all of the cells!"
   ]
  },
  {
   "cell_type": "markdown",
   "metadata": {
    "id": "23FvwVKGV3nF"
   },
   "source": [
    "## Setup ##\n",
    "We'll need [Biopython](https://biopython.org), a set of computational biology and bioinformatics tools for Python. Biopython includes handy tools for sequence alignment, structural biology analyses, and more. If you want Biopython on your local machine and you already have Python installed, try running `pip install biopython`. \n",
    "\n",
    "Run the cell below to import useful libraries."
   ]
  },
  {
   "cell_type": "code",
   "execution_count": null,
   "metadata": {
    "colab": {
     "base_uri": "https://localhost:8080/"
    },
    "id": "XPgdvvebTqrl",
    "outputId": "69e40f79-2672-41da-8e64-d492b221ba8e"
   },
   "outputs": [],
   "source": [
    "#import some other handy data analysis tools\n",
    "import pandas as pd\n",
    "import numpy as np\n",
    "import matplotlib.pyplot as plt"
   ]
  },
  {
   "cell_type": "markdown",
   "metadata": {
    "id": "Ljdyy0uhWWBB"
   },
   "source": [
    "## Part 1: Sequencing Data - FASTQ Files ##\n",
    "As mentioned in lecture, FASTQ files are a file format used to store sequences data and PHRED quality scores. We've provided a sample FASTQ file called `s_cere_reads.fastq` (RNA-seq reads from the yeast *S. cerevisiae*). Let's look at the first record, which stores data for one read. As a reminder, this is what the lines in a FASTQ file mean: ![Fastq](fastq.png)\n"
   ]
  },
  {
   "cell_type": "code",
   "execution_count": null,
   "metadata": {
    "colab": {
     "base_uri": "https://localhost:8080/"
    },
    "id": "SzovSSzZ3CeE",
    "outputId": "2fef31e6-cf88-47f0-bc51-784962ab004d"
   },
   "outputs": [],
   "source": [
    "with open('s_cere_reads.fastq', 'r') as f:\n",
    "  for i in range(4):\n",
    "    print(f.readline())"
   ]
  },
  {
   "cell_type": "markdown",
   "metadata": {
    "id": "-PgdyXO_0R3V"
   },
   "source": [
    "Now, we're curious how many records are in this file. \n",
    "\n",
    "`SeqIO.parse()` returns an iterator of `SeqRecord` objects. Biopython uses an iterator instead of an array or set when reading files due to potentially large file sizes. FASTQ and FASTA files can go up to the GB range! Luckily, our FASTQ file isn't huge and we can safely store all the objects in an array.\n",
    "\n",
    "**QUESTION 1**: How many records are in this file? Play with the cell below to find out. \n",
    "\n",
    "Your answer here: 85046"
   ]
  },
  {
   "cell_type": "code",
   "execution_count": 1,
   "metadata": {
    "id": "M-iGY4Pwl1yd"
   },
   "outputs": [
    {
     "name": "stdout",
     "output_type": "stream",
     "text": [
      "85046\n"
     ]
    }
   ],
   "source": [
    "from Bio import SeqIO\n",
    "from Bio import AlignIO\n",
    "\n",
    "records = []\n",
    "records_iter = SeqIO.parse('s_cere_reads.fastq', \"fastq\")\n",
    "for record in records_iter:\n",
    "  records.append(record)\n",
    "count = len(records)\n",
    "print(count)"
   ]
  },
  {
   "cell_type": "markdown",
   "metadata": {
    "id": "yZlezo0ctqUH"
   },
   "source": [
    "Now we have all our records Let's peek at the first element to see what a `SeqRecord` object looks like."
   ]
  },
  {
   "cell_type": "code",
   "execution_count": null,
   "metadata": {
    "colab": {
     "base_uri": "https://localhost:8080/"
    },
    "id": "5QhxHEJwT_pF",
    "outputId": "e5d48165-7905-46b8-8c61-d0e51f46f25e"
   },
   "outputs": [],
   "source": [
    "rec_0 = records[0]\n",
    "print(rec_0)"
   ]
  },
  {
   "cell_type": "markdown",
   "metadata": {
    "id": "Xdfx-uf12EES"
   },
   "source": [
    "## Part 2: Quality Control ##\n",
    "One of the first steps after obtaining sequencing data is usually quality control. No sequencing method is perfect, and we want to know if we can be confident in our data.\n",
    "\n",
    "Let's look at the PHRED quality scores of the first record. The PHRED quality scores of a `SeqRecord` object can be accessed with `.letter_annotations[\"phred_quality\"]`."
   ]
  },
  {
   "cell_type": "code",
   "execution_count": null,
   "metadata": {
    "colab": {
     "base_uri": "https://localhost:8080/"
    },
    "id": "fCoo0pNy3Sks",
    "outputId": "9787fd67-1f98-4744-eb49-2d2cd51cb258"
   },
   "outputs": [],
   "source": [
    "phred_scores = rec_0.letter_annotations[\"phred_quality\"]\n",
    "print(phred_scores)"
   ]
  },
  {
   "cell_type": "markdown",
   "metadata": {
    "id": "ih5wRer23f9w"
   },
   "source": [
    "**QUESTION 2a**: What is the average PHRED quality score of all the bases in `rec_0`? Look back at the table provided in lecture, what is the approximate accuracy of this read data?"
   ]
  },
  {
   "cell_type": "code",
   "execution_count": 5,
   "metadata": {
    "id": "vtKYGBzP3T9O"
   },
   "outputs": [
    {
     "name": "stdout",
     "output_type": "stream",
     "text": [
      "37.45333333333333\n"
     ]
    }
   ],
   "source": [
    "first_record = records[0]\n",
    "phred_scores = first_record.letter_annotations[\"phred_quality\"]\n",
    "mean = sum(phred_scores) / len(phred_scores)\n",
    "print(mean)"
   ]
  },
  {
   "cell_type": "markdown",
   "metadata": {
    "id": "1opVsduR61pI"
   },
   "source": [
    "Q2A Answer Here: The average PHRED quality score is 37.5. The approximate accuracy of this read data is between 99.9 to 99.99% accurate, meaning that it is a very good prediction of the average PHRED quality score."
   ]
  },
  {
   "cell_type": "markdown",
   "metadata": {
    "id": "kX-moTUjxlCR"
   },
   "source": [
    "Getting the average of the data only tells us one part of the story. Now, we will create a histogram of the PHRED scores so we can see a distribution of the data! "
   ]
  },
  {
   "cell_type": "code",
   "execution_count": 7,
   "metadata": {
    "colab": {
     "base_uri": "https://localhost:8080/",
     "height": 265
    },
    "id": "psSJNYJW0G8o",
    "outputId": "d405e475-d4d4-49f8-c214-e109dbfc8f98"
   },
   "outputs": [
    {
     "data": {
      "image/png": "[encoded data removed]",
      "text/plain": [
       "<Figure size 640x480 with 1 Axes>"
      ]
     },
     "metadata": {},
     "output_type": "display_data"
    }
   ],
   "source": [
    "import matplotlib.pyplot as plt\n",
    "plt.style.use('ggplot')\n",
    "plt.hist(phred_scores, bins=5)\n",
    "plt.show()"
   ]
  },
  {
   "cell_type": "markdown",
   "metadata": {
    "id": "5A7Uc0w06Y9c"
   },
   "source": [
    "**QUESTION 2b**: Please describe the distribution here. Is it normal, is it skewed, etc.? Also, describe the range and if you think this data is low quality, medium quality, or high quality and why?"
   ]
  },
  {
   "cell_type": "markdown",
   "metadata": {
    "id": "-J3V1qNb6uD-"
   },
   "source": [
    "Q2B Answer here: The distribution presented by the histogram of the PHRED scores is heavily skewed to the right, since a majority of the scores are on the right side of the graph, especially in the 37.5 to 38 score region. Though the data ranges across the entirety of the histogram, a majority of the scores lie in the far right side of it. Given that the data is so heavily skewed, it may seem that the data is of low quality, but in my opinion, the data is of high quality since, as shown in the table from lecture, data points in the 30 to 40 range have an extremely high accuracy that ranges between 99.9 to 99.99 percent accurate, which is an indiciation of good data quality."
   ]
  },
  {
   "cell_type": "markdown",
   "metadata": {
    "id": "vXxdHlZG67xC"
   },
   "source": [
    "# Read Trimming"
   ]
  },
  {
   "cell_type": "markdown",
   "metadata": {
    "id": "BKph7UQJ7TNS"
   },
   "source": [
    "As mentioned in lecture, the next step after quality control is to trim the reads that are not up to par with our quality levels. Usually, this consists of reads that have a PHRED score of 20 or below. Since our records do not have a PHRED score of less than 20 as seen from the histogram, we will move on from this step for now. Note that we've just looked at one of the reads; in real applications you'll want to filter all reads."
   ]
  },
  {
   "cell_type": "markdown",
   "metadata": {
    "id": "vmD2OKhj3MGu"
   },
   "source": [
    "**QUESTION 2c**: Write code that loops over all of the records, finds the average PHRED score in each record, and plots the averages as a histogram. What observations can you make about the average PHRED scores? (Note that since you're looping over 25,000 records, your code might take some time to run)"
   ]
  },
  {
   "cell_type": "code",
   "execution_count": 8,
   "metadata": {
    "id": "3oTBYy_y3ifv"
   },
   "outputs": [
    {
     "data": {
      "image/png": "[encoded data removed]",
      "text/plain": [
       "<Figure size 640x480 with 1 Axes>"
      ]
     },
     "metadata": {},
     "output_type": "display_data"
    }
   ],
   "source": [
    "# 1) Loop over all records\n",
    "# 2) Find the average PHRED score in each record\n",
    "# 3) Plot the averages as histogram\n",
    "# Write your code here!\n",
    "\n",
    "import matplotlib.pyplot as plt\n",
    "from Bio import SeqIO\n",
    "average_scores = []\n",
    "for record in records:\n",
    "    phred_scores = record.letter_annotations[\"phred_quality\"]\n",
    "    average_score = sum(phred_scores) / len(phred_scores)\n",
    "    average_scores.append(average_score)\n",
    "plt.hist(average_scores, bins=20, color='skyblue', edgecolor='black')\n",
    "plt.xlabel('Average PHRED Score')\n",
    "plt.ylabel('Frequency')\n",
    "plt.title('Histogram of Average PHRED Scores')\n",
    "plt.show()"
   ]
  },
  {
   "cell_type": "markdown",
   "metadata": {
    "id": "R8_X5QOV3n5x"
   },
   "source": [
    "Q2C Answer here: Through this histogram, I was able to observe that none of the average PHRED scores fall below the range of 18 to 19, and that the histogram is primarily skewed to the right, meaning that a majority of the scores are between 35 to 40, as it has the highest frequency. Based on all of these observations, I can infer that of all the 25,000 records, most of them have a PHRED score between 35 to 40. Based on the table provided in lecture, they have an accuracy of around 99.99%, which means that the data is extremely accurate and of good quality."
   ]
  },
  {
   "cell_type": "markdown",
   "metadata": {
    "id": "ySLtVoFg7_gR"
   },
   "source": [
    "# Data Exploration"
   ]
  },
  {
   "cell_type": "markdown",
   "metadata": {
    "id": "XBpoDqQY8DFO"
   },
   "source": [
    "Before we move on to alignment, let's convert our fastq file to the FASTA format to analyze and understand the data we're dealing with more."
   ]
  },
  {
   "cell_type": "code",
   "execution_count": null,
   "metadata": {
    "colab": {
     "base_uri": "https://localhost:8080/"
    },
    "id": "Bc8Iiq078LMK",
    "outputId": "987e18d1-482e-4a9c-8e7c-0635a1431f75"
   },
   "outputs": [],
   "source": [
    "from Bio import SeqIO\n",
    "with open(\"s_cere_reads.fastq\", \"r\") as input_handle, open(\"s_cere_reads.fasta\", \"w\") as output_handle:\n",
    "    sequences = SeqIO.parse(input_handle, \"fastq\")        \n",
    "    count = SeqIO.write(sequences, output_handle, \"fasta\")        \n",
    "print(\"Converted %i records\" % count)"
   ]
  },
  {
   "cell_type": "markdown",
   "metadata": {
    "id": "mjNKFNHN87gb"
   },
   "source": [
    "Now that we have our file in FASTA format under the name `s_cere_reads.fasta`, let's explore some basic genome properties of our first read."
   ]
  },
  {
   "cell_type": "code",
   "execution_count": null,
   "metadata": {
    "id": "Rm66h3qC9FO0"
   },
   "outputs": [],
   "source": [
    "records_fa = []\n",
    "records_iter_fa = SeqIO.parse('s_cere_reads.fasta', \"fasta\")\n",
    "for record in records_iter_fa:\n",
    "  # Don't change this line! We're adding all elements of the \n",
    "  # iterator into an array we can work with.\n",
    "  records_fa.append(record)"
   ]
  },
  {
   "cell_type": "code",
   "execution_count": null,
   "metadata": {
    "colab": {
     "base_uri": "https://localhost:8080/"
    },
    "id": "DOSiydO_9ruf",
    "outputId": "a174b7f7-4403-4fff-a5ea-45b159f70e87"
   },
   "outputs": [],
   "source": [
    "rec_1 = records[0]\n",
    "print(rec_1)"
   ]
  },
  {
   "cell_type": "code",
   "execution_count": null,
   "metadata": {
    "colab": {
     "base_uri": "https://localhost:8080/"
    },
    "id": "-I0o1k8n91QG",
    "outputId": "cae5b4e7-28e8-41dd-b85c-189725c5724b"
   },
   "outputs": [],
   "source": [
    "print(rec_1.seq)"
   ]
  },
  {
   "cell_type": "code",
   "execution_count": null,
   "metadata": {
    "colab": {
     "base_uri": "https://localhost:8080/"
    },
    "id": "ULBPlotT98G-",
    "outputId": "7217eb82-5f32-44b8-cb91-371c6ddd0043"
   },
   "outputs": [],
   "source": [
    "print(\"Sequence length (bp)\", len(rec_1))"
   ]
  },
  {
   "cell_type": "markdown",
   "metadata": {
    "id": "BeO-a81e-Fsv"
   },
   "source": [
    "As you can see this read has a sequence length of ~75bp which means it is a short read. This means that when aligning, we now know to use an aligner that is best for short-reads. \n",
    "\n",
    "***Note***: For now, we have looked at only 1 read, a more accurate representation would be to create a histogram of sequence length for each read so we can get an idea for the average read length rather than from a single record."
   ]
  },
  {
   "cell_type": "markdown",
   "metadata": {
    "id": "rJ0tLT5l7jjj"
   },
   "source": [
    "## Part 3: Alignment"
   ]
  },
  {
   "cell_type": "markdown",
   "metadata": {
    "id": "rqjoXOco7qlu"
   },
   "source": [
    "Alright, now that we have explored our data and have come to the conclusion that we have a short-read sequencing set, we will move on to aligning our data to a reference genome! As mentioned in lecture, aligning reads is like putting puzzle pieces together according to a reference picture. The other option we could take is to do assembly, however that is much more time-consuming and best used if we do not have a reference genome. \n",
    "\n",
    "Our reference genome will be the `S. cerevisiae` genome. As for our aligner, we will be using `Bowtie2`, as this is very efficient for short-read alignment."
   ]
  },
  {
   "cell_type": "markdown",
   "metadata": {
    "id": "TLhuR2hTCRkV"
   },
   "source": [
    "In order for `Bowtie2` to work, we need to provide it with trimmed reads files and an *index* of the reference genome. We have included this index in the files with this module; you can download indices for other organisms in the sidebar of [Bowtie2's website](http://bowtie-bio.sourceforge.net/bowtie2/index.shtml).\n"
   ]
  },
  {
   "cell_type": "code",
   "execution_count": null,
   "metadata": {
    "colab": {
     "base_uri": "https://localhost:8080/"
    },
    "id": "EtCaIvLEFTZe",
    "outputId": "6a04a420-4b95-43dc-d595-f6ed606669ec"
   },
   "outputs": [],
   "source": [
    "# The following line runs the Bowtie2 command\n",
    "# Bowtie2 is preinstalled on the biology datahub computer.\n",
    "!bowtie2 -x s_cere/s_cere -U s_cere_reads.fastq -S output.sam"
   ]
  },
  {
   "cell_type": "markdown",
   "metadata": {
    "id": "S_sCV9_sLemJ"
   },
   "source": [
    "Let's take apart that command piece-by-piece:\n",
    "- First, we used the `!` symbol. This is a Jupyter-specific symbol (i.e. it won't work in regular Python) that allows us to run commands *on the command line*. Bowtie2 is an executable program that's usually run from a command line.\n",
    "- The `-x s_cere/s_cere` portion tells Bowtie2 the location of the *indices* which it uses to align reads. These are in the form of `.bt2` files, which are included in a folder imported with this module.\n",
    "- The `-U s_cere_reads.fastq` portion tells Bowtie2 the location of the FASTQ file we've been using.\n",
    "- The `-S output.sam` portion tells Bowtie2 the name we want to give to the output SAM file. This is a type of file often used to represent alignments.\n",
    "\n",
    "Note also in the output the number of alignments. You should have a high overall alignment rate; unusually low rates may indicate an error, such as low-quality reads or an incorrect index\n",
    "\n",
    "Let's take a look at this SAM file:"
   ]
  },
  {
   "cell_type": "code",
   "execution_count": 10,
   "metadata": {
    "colab": {
     "base_uri": "https://localhost:8080/"
    },
    "id": "Ac8oAJt9GR1R",
    "outputId": "eb20586a-b1fe-4aba-f6fe-961904f2d401"
   },
   "outputs": [
    {
     "ename": "FileNotFoundError",
     "evalue": "[Errno 2] No such file or directory: 'output.sam'",
     "output_type": "error",
     "traceback": [
      "\u001b[0;31m---------------------------------------------------------------------------\u001b[0m",
      "\u001b[0;31mFileNotFoundError\u001b[0m                         Traceback (most recent call last)",
      "Cell \u001b[0;32mIn[10], line 1\u001b[0m\n\u001b[0;32m----> 1\u001b[0m \u001b[38;5;28;01mwith\u001b[39;00m \u001b[38;5;28;43mopen\u001b[39;49m\u001b[43m(\u001b[49m\u001b[38;5;124;43m\"\u001b[39;49m\u001b[38;5;124;43moutput.sam\u001b[39;49m\u001b[38;5;124;43m\"\u001b[39;49m\u001b[43m,\u001b[49m\u001b[43m \u001b[49m\u001b[38;5;124;43m'\u001b[39;49m\u001b[38;5;124;43mr\u001b[39;49m\u001b[38;5;124;43m'\u001b[39;49m\u001b[43m)\u001b[49m \u001b[38;5;28;01mas\u001b[39;00m f:\n\u001b[1;32m      2\u001b[0m   \u001b[38;5;28;01mfor\u001b[39;00m i \u001b[38;5;129;01min\u001b[39;00m \u001b[38;5;28mrange\u001b[39m(\u001b[38;5;241m25\u001b[39m):\n\u001b[1;32m      3\u001b[0m     \u001b[38;5;28mprint\u001b[39m(f\u001b[38;5;241m.\u001b[39mreadline())\n",
      "File \u001b[0;32m/srv/conda/lib/python3.9/site-packages/IPython/core/interactiveshell.py:308\u001b[0m, in \u001b[0;36m_modified_open\u001b[0;34m(file, *args, **kwargs)\u001b[0m\n\u001b[1;32m    301\u001b[0m \u001b[38;5;28;01mif\u001b[39;00m file \u001b[38;5;129;01min\u001b[39;00m {\u001b[38;5;241m0\u001b[39m, \u001b[38;5;241m1\u001b[39m, \u001b[38;5;241m2\u001b[39m}:\n\u001b[1;32m    302\u001b[0m     \u001b[38;5;28;01mraise\u001b[39;00m \u001b[38;5;167;01mValueError\u001b[39;00m(\n\u001b[1;32m    303\u001b[0m         \u001b[38;5;124mf\u001b[39m\u001b[38;5;124m\"\u001b[39m\u001b[38;5;124mIPython won\u001b[39m\u001b[38;5;124m'\u001b[39m\u001b[38;5;124mt let you open fd=\u001b[39m\u001b[38;5;132;01m{\u001b[39;00mfile\u001b[38;5;132;01m}\u001b[39;00m\u001b[38;5;124m by default \u001b[39m\u001b[38;5;124m\"\u001b[39m\n\u001b[1;32m    304\u001b[0m         \u001b[38;5;124m\"\u001b[39m\u001b[38;5;124mas it is likely to crash IPython. If you know what you are doing, \u001b[39m\u001b[38;5;124m\"\u001b[39m\n\u001b[1;32m    305\u001b[0m         \u001b[38;5;124m\"\u001b[39m\u001b[38;5;124myou can use builtins\u001b[39m\u001b[38;5;124m'\u001b[39m\u001b[38;5;124m open.\u001b[39m\u001b[38;5;124m\"\u001b[39m\n\u001b[1;32m    306\u001b[0m     )\n\u001b[0;32m--> 308\u001b[0m \u001b[38;5;28;01mreturn\u001b[39;00m \u001b[43mio_open\u001b[49m\u001b[43m(\u001b[49m\u001b[43mfile\u001b[49m\u001b[43m,\u001b[49m\u001b[43m \u001b[49m\u001b[38;5;241;43m*\u001b[39;49m\u001b[43margs\u001b[49m\u001b[43m,\u001b[49m\u001b[43m \u001b[49m\u001b[38;5;241;43m*\u001b[39;49m\u001b[38;5;241;43m*\u001b[39;49m\u001b[43mkwargs\u001b[49m\u001b[43m)\u001b[49m\n",
      "\u001b[0;31mFileNotFoundError\u001b[0m: [Errno 2] No such file or directory: 'output.sam'"
     ]
    }
   ],
   "source": [
    "with open(\"output.sam\", 'r') as f:\n",
    "  for i in range(25):\n",
    "    print(f.readline())"
   ]
  },
  {
   "cell_type": "markdown",
   "metadata": {
    "id": "F_6rZLA6OZK4"
   },
   "source": [
    "We can see that this file starts off with several lines of metadata, followed by a tab-separated table. You may recognize some of the fields of the table from the FASTQ files; to learn more about the SAM format for storing alignments, you can look at the [file specification](http://samtools.github.io/hts-specs/). "
   ]
  },
  {
   "cell_type": "markdown",
   "metadata": {
    "id": "7QAgSjzdywo9"
   },
   "source": [
    "**QUESTION 3**: According to the specification, what do the columns in the table represent? What does the first line in the header mean?"
   ]
  },
  {
   "cell_type": "markdown",
   "metadata": {
    "id": "w6k3d29yy-0-"
   },
   "source": [
    "Q3 Answer here: According to the specification, the columns in the table represent different pieces of information regarding the alignments, which makes it easier for an individual to understand key details regarding a certain alignment. The first line in the header displays the alignment's file format and reference sequence."
   ]
  },
  {
   "cell_type": "markdown",
   "metadata": {
    "id": "WX4ogt9FzBCj"
   },
   "source": [
    "# Part 4: Gene Counts"
   ]
  },
  {
   "cell_type": "markdown",
   "metadata": {
    "id": "zPs5EBB20V0G"
   },
   "source": [
    "Now that we've produced an alignment, the next step is to count each of the reads mapping to each gene. To do this, we will need two things:\n",
    "1. An alignment, which we have as the SAM file output from Bowtie2.\n",
    "2. A genome annotation file. The most commonly used file type is a GFF file (you may also see a GTF file; these are identical to version 2 of the GFF specification). These files contain information about the start and end position of each gene, as well as other annotations. \n",
    "\n",
    "In our case, we've provided the file `sacCer3.ensGene.gtf` for genome annotations of the *S. cerevisiae* genome, which was downloaded from the [UCSC Genome Browser page](http://hgdownload.soe.ucsc.edu/downloads.html). Let's see what this file looks like:"
   ]
  },
  {
   "cell_type": "code",
   "execution_count": null,
   "metadata": {
    "colab": {
     "base_uri": "https://localhost:8080/"
    },
    "id": "R4eiTufa2W0R",
    "outputId": "e0f432cc-f6fd-42cc-d5be-fd13fc5f627d"
   },
   "outputs": [],
   "source": [
    "with open(\"sacCer3.ensGene.gtf\") as f:\n",
    "  for i in range(5):\n",
    "    print(f.readline())"
   ]
  },
  {
   "cell_type": "markdown",
   "metadata": {
    "id": "c7Yi9GQF2oh2"
   },
   "source": [
    "We can see that we have another tab-delimited table of values."
   ]
  },
  {
   "cell_type": "markdown",
   "metadata": {
    "id": "7iZpk2nv22Uu"
   },
   "source": [
    "**QUESTION 4a**: Look up the GTF file specification. What do each of the columns mean? What does the first line of the annotation mean?"
   ]
  },
  {
   "cell_type": "markdown",
   "metadata": {
    "id": "sGj5ZF5v3HVI"
   },
   "source": [
    "Q4a Answer here: In the GTF file specification, each of the columns represents the Seqname, source, feature, start, end, score, strand, frame, and attribute, all of which hold information related to the genomic features of a specific genome. The first line of the annotation represents the purpose of a genome annotation file, as well as relevant details to the file, such as genetic indentification, name, source, biotype, and other pertinent data or sources.  "
   ]
  },
  {
   "cell_type": "markdown",
   "metadata": {
    "id": "6xPu4zcb3I91"
   },
   "source": [
    "In order to find gene counts, we'll be using the package `HTSeq`. We can install the package with the line below:"
   ]
  },
  {
   "cell_type": "code",
   "execution_count": null,
   "metadata": {
    "colab": {
     "base_uri": "https://localhost:8080/"
    },
    "id": "XRL0I2e13-Ey",
    "outputId": "d818bdfa-24c8-4a77-857d-f75a17b02093"
   },
   "outputs": [],
   "source": [
    "!pip install pysam htseq"
   ]
  },
  {
   "cell_type": "markdown",
   "metadata": {
    "id": "W1bFaD2f4EWz"
   },
   "source": [
    "`HTSeq` is once again run from the command line; we can run it with our files as follows:"
   ]
  },
  {
   "cell_type": "code",
   "execution_count": null,
   "metadata": {
    "colab": {
     "base_uri": "https://localhost:8080/"
    },
    "id": "DNIRj5mR4JWT",
    "outputId": "c86744c6-ab14-4d1a-b057-ee943d7dcc56"
   },
   "outputs": [],
   "source": [
    "!htseq-count output.sam sacCer3.ensGene.gtf > s_cere_counts.tsv"
   ]
  },
  {
   "cell_type": "markdown",
   "metadata": {
    "id": "ENq0srsY8DGm"
   },
   "source": [
    "In this command, the program we are running is `htseq-count`. The two arguments are our alignment (`output.sam`) and the annotation (`sacCer3.ensGene.gtf`). We then use a *redirect character* (`>`) to send the output of the command to a file, `s_cere_counts.tsv`.\n",
    "\n",
    "We can view the contents of this TSV file as follows:"
   ]
  },
  {
   "cell_type": "code",
   "execution_count": null,
   "metadata": {
    "colab": {
     "base_uri": "https://localhost:8080/"
    },
    "id": "tN113Ekm8aQO",
    "outputId": "a7b3a459-d209-4f27-80a2-80eeefe9af4d"
   },
   "outputs": [],
   "source": [
    "with open(\"s_cere_counts.tsv\") as f:\n",
    "  for i in range(5):\n",
    "    print(f.readline())"
   ]
  },
  {
   "cell_type": "markdown",
   "metadata": {
    "id": "JxaRBQGn9ZWG"
   },
   "source": [
    "This file has two columns: the first is the gene name, and the second is the count for that gene. "
   ]
  },
  {
   "cell_type": "markdown",
   "metadata": {
    "id": "fqPyO6gz9tkg"
   },
   "source": [
    "**QUESTION 4b**: Use pandas to read in the count data (*hint:* remember the `pd.read_csv()` function) and make a barplot for the genes that have nonzero counts. What do you notice about the output, and why might this be the case?"
   ]
  },
  {
   "cell_type": "code",
   "execution_count": 11,
   "metadata": {
    "id": "dyilKL7G92EM"
   },
   "outputs": [
    {
     "data": {
      "image/png": "[encoded data removed]",
      "text/plain": [
       "<Figure size 1000x600 with 1 Axes>"
      ]
     },
     "metadata": {},
     "output_type": "display_data"
    }
   ],
   "source": [
    "# Write your code here\n",
    "import pandas as pd\n",
    "import matplotlib.pyplot as plt\n",
    "count_data = pd.read_csv(\"s_cere_counts.tsv\", sep=\"\\t\", header=None, names=[\"Gene\", \"Count\"])\n",
    "nonzero_counts = count_data[count_data[\"Count\"] > 0]\n",
    "plt.figure(figsize=(10, 6))\n",
    "plt.bar(nonzero_counts[\"Gene\"], nonzero_counts[\"Count\"])\n",
    "plt.xlabel(\"Genes\")\n",
    "plt.ylabel(\"Counts\")\n",
    "plt.title(\"Genes with Nonzero Counts\")\n",
    "plt.xticks(rotation=90)\n",
    "plt.tight_layout()\n",
    "plt.show()"
   ]
  },
  {
   "cell_type": "markdown",
   "metadata": {},
   "source": [
    "Q4b Answer here: Based on the barplot I created for genes that have nonzero counts, I noticed in the output that genes that had no feature had the highest count, with it being around 60,000. On the other hand,genes with lower quality or that were not aligned were significantly lower in count, ranging between 10,000 to 20,000. I think this outcome might be the case because there might be differences in the level of gene expression amongst various genes, which could be depe"
   ]
  },
  {
   "cell_type": "markdown",
   "metadata": {},
   "source": [
    "Congrats on finishing this module!"
   ]
  }
 ],
 "metadata": {
  "colab": {
   "collapsed_sections": [],
   "name": "Sequencing_Module.ipynb",
   "provenance": [],
   "toc_visible": true
  },
  "kernelspec": {
   "display_name": "Python 3 (ipykernel)",
   "language": "python",
   "name": "python3"
  },
  "language_info": {
   "codemirror_mode": {
    "name": "ipython",
    "version": 3
   },
   "file_extension": ".py",
   "mimetype": "text/x-python",
   "name": "python",
   "nbconvert_exporter": "python",
   "pygments_lexer": "ipython3",
   "version": "3.9.15"
  }
 },
 "nbformat": 4,
 "nbformat_minor": 1
}
